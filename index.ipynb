{
 "cells": [
  {
   "cell_type": "markdown",
   "id": "40b72ed3-2d4f-42aa-8f8c-c3c14f80dfbe",
   "metadata": {},
   "source": [
    "# PyPlot.jl gallery\n",
    "\n",
    "Source: the [gist](https://gist.github.com/gizmaa/7214002) by gizmaa."
   ]
  },
  {
   "cell_type": "markdown",
   "id": "ea08772f-2f5a-463c-b2eb-0019ab659281",
   "metadata": {},
   "source": [
    "## 3D surface plot"
   ]
  },
  {
   "cell_type": "code",
   "execution_count": null,
   "id": "a85c3c2c-0443-4d8b-a7df-4d2010b25001",
   "metadata": {
    "execution": {
     "iopub.execute_input": "2022-03-01T08:36:56.447000Z",
     "iopub.status.busy": "2022-03-01T08:36:55.748000Z",
     "iopub.status.idle": "2022-03-01T08:37:08.295000Z",
     "shell.execute_reply": "2022-03-01T08:37:08.258000Z"
    }
   },
   "outputs": [],
   "source": [
    "import PyPlot as plt\n",
    "\n",
    "## Data\n",
    "us = range(0.0,stop=2pi,length=300)\n",
    "vs = range(0.0,stop=pi,length=300)\n",
    "\n",
    "x = [cos(u) * sin(v) for u in us, v in vs]\n",
    "y = [sin(u) * sin(v) for u in us, v in vs]\n",
    "z = [cos(v) for u in us, v in vs]\n",
    "\n",
    "colors = rand(length(us),length(vs),3)\n",
    "\n",
    "## Plot\n",
    "plt.surf(x,y,z,facecolors=colors)\n",
    "plt.gcf();"
   ]
  },
  {
   "cell_type": "markdown",
   "id": "7ef2217e-a194-4e7c-a6da-a233649a97e4",
   "metadata": {},
   "source": [
    "## Annotations"
   ]
  },
  {
   "cell_type": "code",
   "execution_count": null,
   "id": "df57b7d4-c7ca-43c6-a26f-2bfc047b25e6",
   "metadata": {
    "execution": {
     "iopub.execute_input": "2022-03-01T08:37:08.473000Z",
     "iopub.status.busy": "2022-03-01T08:37:08.297000Z",
     "iopub.status.idle": "2022-03-01T08:37:10.188000Z",
     "shell.execute_reply": "2022-03-01T08:37:10.186000Z"
    }
   },
   "outputs": [],
   "source": [
    "using Dates, LaTeXStrings\n",
    "import PyPlot as plt"
   ]
  },
  {
   "cell_type": "code",
   "execution_count": null,
   "id": "d24a60ec-be3e-4453-9d45-d16b9f01fb51",
   "metadata": {
    "execution": {
     "iopub.execute_input": "2022-03-01T08:37:10.190000Z",
     "iopub.status.busy": "2022-03-01T08:37:10.189000Z",
     "iopub.status.idle": "2022-03-01T08:37:12.564000Z",
     "shell.execute_reply": "2022-03-01T08:37:12.563000Z"
    }
   },
   "outputs": [],
   "source": [
    "## Data\n",
    "## Generate an hour of data at 10Hz.\n",
    "\n",
    "\n",
    "x = collect(DateTime(2013,10,4):Dates.Millisecond(100):DateTime(2013,10,4,1)) # Generate time array\n",
    "x = Dates.value.(x)/1000/60/60/24 # Convert time from milliseconds from day 0 to days from day 0\n",
    "y = sin.(2*pi*collect(0:2*pi/(length(x)+1):2*pi-(2*pi/length(x))))\n",
    "\n",
    "dx = maximum(x) - minimum(x)\n",
    "dy = maximum(y) - minimum(y)\n",
    "\n",
    "\n",
    "y2 = 10rand(21) .- 3\n",
    "\n",
    "x2 = collect(minimum(x):dx/20:maximum(x))\n",
    "x3 = collect(minimum(x):dx/20:maximum(x))\n",
    "\n",
    "y3 = 10rand(21) .- 3"
   ]
  },
  {
   "cell_type": "code",
   "execution_count": null,
   "id": "c0547b8a-679c-47c7-9445-01fec059b441",
   "metadata": {
    "execution": {
     "iopub.execute_input": "2022-03-01T08:37:12.567000Z",
     "iopub.status.busy": "2022-03-01T08:37:12.566000Z",
     "iopub.status.idle": "2022-03-01T08:37:15.748000Z",
     "shell.execute_reply": "2022-03-01T08:37:15.747000Z"
    }
   },
   "outputs": [],
   "source": [
    "fig, ax = plt.subplots(figsize=(10, 10))\n",
    "\t\n",
    "ax.plot_date(x,y, linestyle=\"-\", marker=\"None\", label=\"Test Plot\") # Plot a basic line\n",
    "ax.axis(\"tight\") # Fit the axis tightly to the plot\n",
    "ax.set_title(\"U Component of Wind\")\n",
    "ax.grid(\"on\")\n",
    "ax.legend(loc=\"upper right\",fancybox=\"true\")\n",
    "\n",
    "##################\n",
    "#  Text Styling  #\n",
    "##################\n",
    "\n",
    "font1 = Dict(\"family\"=>\"serif\",\n",
    "             \"color\"=>\"darkred\",\n",
    "             \"weight\"=>\"normal\",\n",
    "             \"size\"=>16)\n",
    "ax.set_xlabel(\"Time\", fontdict=font1)        # X Axis font formatting\n",
    "ax.set_ylabel(\"Velocity (m/s)\")\n",
    "plt.setp(ax.get_yticklabels(),fontsize=24,color=\"blue\") # Y Axis font formatting\n",
    "\n",
    "#################\n",
    "#  Arrow Tests  #\n",
    "#################\n",
    "\n",
    "# This arrows orient toward the x-axis, the more horizontal they are the more skewed they look\n",
    "\n",
    "ax.arrow(x[convert(Int64,floor(length(x)/2))],\n",
    "        0.4,\n",
    "        0.0009,\n",
    "        0.4,\n",
    "        head_width=0.001,\n",
    "        width=0.00015,\n",
    "        head_length=0.07,\n",
    "        overhang=0.5,\n",
    "        head_starts_at_zero=\"true\",\n",
    "        facecolor=\"red\")\n",
    "\n",
    "ax.arrow(x[convert(Int64,floor(0.3length(x)))]-0.25dx,\n",
    "        y[convert(Int64,floor(0.3length(y)))]+0.25dy,\n",
    "        0.25dx,\n",
    "        -0.25dy,\n",
    "        head_width=0.001,\n",
    "        width=0.00015,\n",
    "        head_length=0.07,\n",
    "        overhang=0.5,\n",
    "        head_starts_at_zero=\"true\",\n",
    "        facecolor=\"red\",\n",
    "        length_includes_head=\"true\")\n",
    "\n",
    "###########################\n",
    "#  Text Annotation Tests  #\n",
    "###########################\n",
    "\n",
    "ax.annotate(\"Look, data!\",\n",
    "    xy=[x[convert(Int64,floor(length(x)/4.1))];y[convert(Int64,floor(length(y)/4.1))]],\n",
    "    xytext=[x[convert(Int64,floor(length(x)/4.1))]+0.1dx;y[convert(Int64,floor(length(y)/4.1))]+0.1dy],\n",
    "    xycoords=\"data\",\n",
    "    arrowprops=Dict(\"facecolor\"=>\"black\")) # Julia dictionary objects are automatically converted to Python object when they pass into a PyPlot function\n",
    "ax.annotate(\"Figure Top Right\",\n",
    "    xy=[1;1],\n",
    "    xycoords=\"figure fraction\",\n",
    "    xytext=[0,0],\n",
    "    textcoords=\"offset points\",\n",
    "    ha=\"right\",\n",
    "    va=\"top\")\n",
    "ax.annotate(L\"$\\int x = \\frac{x^2}{2} + C$\",\n",
    "    xy=[1;0],\n",
    "    xycoords=\"axes fraction\",\n",
    "    xytext=[-10,10],\n",
    "    textcoords=\"offset points\",\n",
    "    fontsize=30.0,\n",
    "    ha=\"right\",\n",
    "    va=\"bottom\")\n",
    "\n",
    "fig.autofmt_xdate(bottom=0.2,rotation=30,ha=\"right\")"
   ]
  },
  {
   "cell_type": "markdown",
   "id": "2a2b42c4-f16e-46a8-8770-9b3bb25cf93f",
   "metadata": {},
   "source": [
    "## Axis placement"
   ]
  },
  {
   "cell_type": "code",
   "execution_count": null,
   "id": "d2d80012-099d-4fd8-93df-5bfcf9a82c3e",
   "metadata": {
    "execution": {
     "iopub.execute_input": "2022-03-01T08:37:15.750000Z",
     "iopub.status.busy": "2022-03-01T08:37:15.749000Z",
     "iopub.status.idle": "2022-03-01T08:37:15.753000Z",
     "shell.execute_reply": "2022-03-01T08:37:15.752000Z"
    }
   },
   "outputs": [],
   "source": [
    "import PyPlot as plt"
   ]
  },
  {
   "cell_type": "code",
   "execution_count": null,
   "id": "70921ccd-e99b-4156-a118-10346e06fcdb",
   "metadata": {
    "execution": {
     "iopub.execute_input": "2022-03-01T08:37:15.755000Z",
     "iopub.status.busy": "2022-03-01T08:37:15.755000Z",
     "iopub.status.idle": "2022-03-01T08:37:15.863000Z",
     "shell.execute_reply": "2022-03-01T08:37:15.862000Z"
    }
   },
   "outputs": [],
   "source": [
    "# Data\n",
    "x = 0:pi/50:2pi\n",
    "y = sin.(x)"
   ]
  },
  {
   "cell_type": "code",
   "execution_count": null,
   "id": "4ff17b46-cb87-4862-bae1-dca939eee574",
   "metadata": {
    "execution": {
     "iopub.execute_input": "2022-03-01T08:37:15.866000Z",
     "iopub.status.busy": "2022-03-01T08:37:15.865000Z",
     "iopub.status.idle": "2022-03-01T08:37:16.824000Z",
     "shell.execute_reply": "2022-03-01T08:37:16.823000Z"
    }
   },
   "outputs": [],
   "source": [
    "fig, axs = plt.subplots(2, 1, figsize = (10, 10))\n",
    "\n",
    "ax = axs[1]\n",
    "\n",
    "ax.plot(x,y)\n",
    "ax.axis(\"tight\")\n",
    "ax.spines[\"top\"].set_visible(false) # Hide the top edge of the axis\n",
    "ax.spines[\"right\"].set_visible(false) # Hide the right edge of the axis\n",
    "ax.spines[\"left\"].set_position(\"center\") # Move the right axis to the center\n",
    "ax.spines[\"bottom\"].set_position(\"center\") # Most the bottom axis to the center\n",
    "ax.xaxis.set_ticks_position(\"bottom\") # Set the x-ticks to only the bottom\n",
    "ax.yaxis.set_ticks_position(\"left\") # Set the y-ticks to only the left\n",
    "\n",
    "ax = axs[2]\n",
    "\n",
    "ax.plot(x,y)\n",
    "ax.axis(\"tight\")\n",
    "ax.spines[\"top\"].set_visible(false) # Hide the top edge of the axis\n",
    "ax.spines[\"right\"].set_visible(false) # Hide the right edge of the axis\n",
    "ax.xaxis.set_ticks_position(\"bottom\")\n",
    "ax.yaxis.set_ticks_position(\"left\")\n",
    "ax.spines[\"left\"].set_position((\"axes\",-0.03)) # Offset the left scale from the axis\n",
    "ax.spines[\"bottom\"].set_position((\"axes\",-0.05)) # Offset the bottom scale from the axis\n",
    "ax.set_xlabel(\"X Axis\")\n",
    "ax.set_ylabel(\"Y Axis\")\n",
    "\n",
    "fig;"
   ]
  },
  {
   "cell_type": "markdown",
   "id": "71d65d7e-1154-4eb3-aa1d-edd68a5ef90d",
   "metadata": {},
   "source": [
    "## Bar plot"
   ]
  },
  {
   "cell_type": "code",
   "execution_count": null,
   "id": "5776be59-1aef-4a1a-8668-6eb8384d0b0d",
   "metadata": {
    "execution": {
     "iopub.execute_input": "2022-03-01T08:37:16.827000Z",
     "iopub.status.busy": "2022-03-01T08:37:16.826000Z",
     "iopub.status.idle": "2022-03-01T08:37:16.829000Z",
     "shell.execute_reply": "2022-03-01T08:37:16.828000Z"
    }
   },
   "outputs": [],
   "source": [
    "import PyPlot as plt"
   ]
  },
  {
   "cell_type": "code",
   "execution_count": null,
   "id": "606ddb45-d7e3-4a13-847a-5fcf0f685f9b",
   "metadata": {
    "execution": {
     "iopub.execute_input": "2022-03-01T08:37:16.831000Z",
     "iopub.status.busy": "2022-03-01T08:37:16.830000Z",
     "iopub.status.idle": "2022-03-01T08:37:17.982000Z",
     "shell.execute_reply": "2022-03-01T08:37:17.981000Z"
    }
   },
   "outputs": [],
   "source": [
    "# Data\n",
    "x = [1:1:50;]\n",
    "y = 100*rand(50)\n",
    "\n",
    "# Plot\n",
    "fig, axs = plt.subplots(2, 1, figsize=(10,10))\n",
    "\n",
    "ax = axs[1]\n",
    "\n",
    "ax.bar(x,y,color=\"#0f87bf\",align=\"center\",alpha=0.4)\n",
    "ax.axis(\"tight\")\n",
    "ax.grid(\"on\")\n",
    "ax.set_title(\"Vertical Bar Plot\")\n",
    "ax.set_xlabel(\"X\")\n",
    "ax.set_ylabel(\"Y\")\n",
    "\n",
    "ax = axs[2]\n",
    "ax.barh(x,y,color=\"#0f87bf\",align=\"center\",alpha=0.4)\n",
    "ax.axis(\"tight\")\n",
    "ax.set_title(\"Horizontal Bar Plot\")\n",
    "ax.grid(\"on\")\n",
    "ax.set_xlabel(\"X\")\n",
    "ax.set_ylabel(\"Y\")\n",
    "\n",
    "fig.suptitle(\"Bar Plot Examples\")"
   ]
  },
  {
   "cell_type": "markdown",
   "id": "de7295c5-6494-4bf9-b396-649e754c85ab",
   "metadata": {},
   "source": [
    "## Broken axis subplots"
   ]
  },
  {
   "cell_type": "code",
   "execution_count": null,
   "id": "f144c1b3-e002-4f0e-861c-9ddeeb0bbc09",
   "metadata": {
    "execution": {
     "iopub.execute_input": "2022-03-01T08:37:17.984000Z",
     "iopub.status.busy": "2022-03-01T08:37:17.983000Z",
     "iopub.status.idle": "2022-03-01T08:37:18.046000Z",
     "shell.execute_reply": "2022-03-01T08:37:18.045000Z"
    }
   },
   "outputs": [],
   "source": [
    "using PyCall\n",
    "import PyPlot as plt\n",
    "\n",
    "axes_grid1 = pyimport(\"mpl_toolkits.axes_grid1\")"
   ]
  },
  {
   "cell_type": "code",
   "execution_count": null,
   "id": "e565df77-f8ac-432f-9e14-56ab5c7b222f",
   "metadata": {
    "execution": {
     "iopub.execute_input": "2022-03-01T08:37:18.048000Z",
     "iopub.status.busy": "2022-03-01T08:37:18.048000Z",
     "iopub.status.idle": "2022-03-01T08:37:19.315000Z",
     "shell.execute_reply": "2022-03-01T08:37:19.315000Z"
    }
   },
   "outputs": [],
   "source": [
    "x = rand(100)\n",
    "y = rand(100)\n",
    "y2 = rand(100).+10\n",
    "\n",
    "fig, axes = plt.subplots(2, 1, figsize=(10,10), sharex=true)\n",
    "\n",
    "ax = axes[1]\n",
    "divider = axes_grid1.make_axes_locatable(ax)\n",
    "ax2 = divider.new_vertical(size=\"100%\", pad=0.1)\n",
    "fig.add_axes(ax2)\n",
    "\n",
    "# Lower Portion of First Plot\n",
    "ax.scatter(x, y)\n",
    "ax.set_ylim(0, 1)\n",
    "ax.spines[\"top\"].set_visible(false)\n",
    "\n",
    "# Upper Portion of First Plot\n",
    "ax2.scatter(x, y2)\n",
    "ax2.set_ylim(10, 11)\n",
    "ax2.tick_params(bottom=\"off\", labelbottom=\"off\")\n",
    "ax2.spines[\"bottom\"].set_visible(false)\n",
    "\n",
    "###############################\n",
    "##  Add Line Break Markings  ##\n",
    "###############################\n",
    "# From https://matplotlib.org/examples/pylab_examples/broken_axis.html\n",
    "\n",
    "# Upper Line Break Markings\n",
    "d = 0.015  # how big to make the diagonal lines in axes coordinates\n",
    "ax2.plot((-d, +d), (-d, +d), transform=ax2.transAxes, color=\"k\", clip_on=false,linewidth=0.8)        # Left diagonal\n",
    "ax2.plot((1 - d, 1 + d), (-d, +d), transform=ax2.transAxes, color=\"k\", clip_on=false,linewidth=0.8)  # Right diagonal\n",
    "\n",
    "# Lower Line Break Markings\n",
    "ax.plot((-d, +d), (1 - d, 1 + d), transform=ax.transAxes, color=\"k\", clip_on=false,linewidth=0.8)  # Left diagonal\n",
    "ax.plot((1 - d, 1 + d), (1 - d, 1 + d), transform=ax.transAxes, color=\"k\", clip_on=false,linewidth=0.8)  # Right diagonal\n",
    "\n",
    "###################\n",
    "##  Second Plot  ##\n",
    "###################\n",
    "axes[2].scatter(x, y)\n",
    "\n",
    "\n",
    "fig;"
   ]
  },
  {
   "cell_type": "markdown",
   "id": "0cd3fed1-fb94-4e1b-91c4-efd6485b2aea",
   "metadata": {},
   "source": [
    "## Custom Time"
   ]
  },
  {
   "cell_type": "code",
   "execution_count": null,
   "id": "091b2723-94d8-4087-81c9-231d256e99a5",
   "metadata": {
    "execution": {
     "iopub.execute_input": "2022-03-01T08:37:19.318000Z",
     "iopub.status.busy": "2022-03-01T08:37:19.317000Z",
     "iopub.status.idle": "2022-03-01T08:37:19.322000Z",
     "shell.execute_reply": "2022-03-01T08:37:19.321000Z"
    }
   },
   "outputs": [],
   "source": [
    "using Dates, PyCall\n",
    "import PyPlot as plt\n",
    "matplotlib = pyimport(\"matplotlib\")"
   ]
  },
  {
   "cell_type": "code",
   "execution_count": null,
   "id": "d19073d0-a99f-4ff2-a857-593d13e28af0",
   "metadata": {
    "execution": {
     "iopub.execute_input": "2022-03-01T08:37:19.325000Z",
     "iopub.status.busy": "2022-03-01T08:37:19.324000Z",
     "iopub.status.idle": "2022-03-01T08:37:20.167000Z",
     "shell.execute_reply": "2022-03-01T08:37:20.165000Z"
    }
   },
   "outputs": [],
   "source": [
    "## Data\n",
    "dt = Dates.Hour(1)\n",
    "time = collect(DateTime(2014,11,20):dt:DateTime(2014,11,22))\n",
    "y = 10rand(length(time))\n",
    "dfmt = Dates.DateFormat(\"yyyy-mm-dd HH:MM:SS\")\n",
    "font1 = Dict(\"fontname\"=>\"Sans\",\"style\"=>\"normal\")\n",
    "# Convert time from milliseconds from day 0 to days from day 0\n",
    "time2 = Dates.value.(time)/1000/60/60/24\n",
    "\n",
    "timespan = \"\\n\" * Dates.format(minimum(time),dfmt) * \" - \" * Dates.format(maximum(time),dfmt)\n",
    "\n",
    "majorformatter = matplotlib.dates.DateFormatter(\"%d.%m.%Y\")\n",
    "minorformatter = matplotlib.dates.DateFormatter(\"%H:%M\")\n",
    "majorlocator = matplotlib.dates.DayLocator(interval=1)\n",
    "minorlocator = matplotlib.dates.HourLocator(byhour=(8, 16))\n",
    "\n",
    "## Plot\n",
    "\n",
    "fig, ax = plt.subplots(figsize=(10, 10))\n",
    "ax.plot_date(time2,y,linestyle=\"-\",marker=\"None\",label=\"test\")\n",
    "ax.axis(\"tight\")\n",
    "ax.set_title(\"Random Data Against Time\\n\" * timespan)\n",
    "\n",
    "ax.grid(\"on\")\n",
    "ax.set_xlabel(\"Time\")\n",
    "ax.set_ylabel(\"Stuff\",fontdict=font1)\n",
    "\n",
    "ax.xaxis.set_major_formatter(majorformatter)\n",
    "ax.xaxis.set_minor_formatter(minorformatter)\n",
    "ax.xaxis.set_major_locator(majorlocator)\n",
    "ax.xaxis.set_minor_locator(minorlocator)\n",
    "\n",
    "fig.autofmt_xdate(bottom=0.2,rotation=30,ha=\"right\")\n",
    "plt.tight_layout()"
   ]
  },
  {
   "cell_type": "markdown",
   "id": "ce164bc1-d261-4cf4-b1d3-d38f6c31472b",
   "metadata": {
    "tags": []
   },
   "source": [
    "## Error bar"
   ]
  },
  {
   "cell_type": "code",
   "execution_count": null,
   "id": "608696cb-c7a0-41cc-a39e-030f83a586fe",
   "metadata": {
    "execution": {
     "iopub.execute_input": "2022-03-01T08:37:20.170000Z",
     "iopub.status.busy": "2022-03-01T08:37:20.169000Z",
     "iopub.status.idle": "2022-03-01T08:37:20.172000Z",
     "shell.execute_reply": "2022-03-01T08:37:20.171000Z"
    }
   },
   "outputs": [],
   "source": [
    "using Dates\n",
    "import PyPlot as plt"
   ]
  },
  {
   "cell_type": "code",
   "execution_count": null,
   "id": "1c50280e-b9a8-4947-86f6-a9c8137a987d",
   "metadata": {
    "execution": {
     "iopub.execute_input": "2022-03-01T08:37:20.174000Z",
     "iopub.status.busy": "2022-03-01T08:37:20.173000Z",
     "iopub.status.idle": "2022-03-01T08:37:21.091000Z",
     "shell.execute_reply": "2022-03-01T08:37:21.091000Z"
    }
   },
   "outputs": [],
   "source": [
    "# Data\n",
    "x = collect(DateTime(2013,10,4):Dates.Day(1):DateTime(2013,10,9))\n",
    "y = [0.9;0.75;0.5;0.4;0.35;0.3]\n",
    "\n",
    "uppererror = [0.05 0.05 0.05 0.03 0.15 0.05;]\n",
    "lowererror = [0.15 0.2 0.05 0.1 0.05 0.05;]\n",
    "errs = [lowererror;uppererror]\n",
    "\n",
    "fig, ax = plt.subplots(figsize=(10,10))\n",
    "ax.plot_date(x,y,linestyle=\"-\",label=\"Base Plot\") # Basic line plot\n",
    "ax.errorbar(x,y,yerr=errs,fmt=\"o\") # Plot irregular error bars\n",
    "ax.axis(\"tight\")\n",
    "\n",
    "ax.set_title(\"Error Bar Example\")\n",
    "ax.set_xlabel(\"Time\")\n",
    "ax.set_ylabel(\"Some Data\")\n",
    "ax.grid(\"on\")\n",
    "\n",
    "fig.autofmt_xdate(bottom=0.2,rotation=30,ha=\"right\") # Autoformat the time format and rotate the labels so they don't overlap\n",
    "fig;"
   ]
  },
  {
   "cell_type": "markdown",
   "id": "16a6c471-03e6-437f-8c86-7d19a42f76f2",
   "metadata": {},
   "source": [
    "## Histogram"
   ]
  },
  {
   "cell_type": "code",
   "execution_count": null,
   "id": "2778fbcf-3e70-450d-b31d-e2c9d0fd1b4a",
   "metadata": {
    "execution": {
     "iopub.execute_input": "2022-03-01T08:37:21.094000Z",
     "iopub.status.busy": "2022-03-01T08:37:21.094000Z",
     "iopub.status.idle": "2022-03-01T08:37:21.095000Z",
     "shell.execute_reply": "2022-03-01T08:37:21.095000Z"
    }
   },
   "outputs": [],
   "source": [
    "import PyPlot as plt"
   ]
  },
  {
   "cell_type": "code",
   "execution_count": null,
   "id": "64b3de7c-ca3e-4816-8234-f4adc53f46b6",
   "metadata": {
    "execution": {
     "iopub.execute_input": "2022-03-01T08:37:21.098000Z",
     "iopub.status.busy": "2022-03-01T08:37:21.098000Z",
     "iopub.status.idle": "2022-03-01T08:37:21.706000Z",
     "shell.execute_reply": "2022-03-01T08:37:21.705000Z"
    }
   },
   "outputs": [],
   "source": [
    "x = randn(1000) # Values\n",
    "nbins = 50 # Number of bins\n",
    "fig, ax = plt.subplots(figsize=(10,10))\n",
    "\n",
    "ax.hist(x,nbins) # Histogram\n",
    "\n",
    "ax.grid(\"on\")\n",
    "ax.set_xlabel(\"X\")\n",
    "ax.set_ylabel(\"Y\")\n",
    "ax.set_title(\"Histogram\")\n",
    "\n",
    "fig;"
   ]
  },
  {
   "cell_type": "markdown",
   "id": "5894472f-0c59-4dd3-a3ca-5ccd803ee7e2",
   "metadata": {},
   "source": [
    "## Line collections"
   ]
  },
  {
   "cell_type": "code",
   "execution_count": null,
   "id": "b47934a5-03e5-4abd-b4a5-9a491c2106b7",
   "metadata": {
    "execution": {
     "iopub.execute_input": "2022-03-01T08:37:21.709000Z",
     "iopub.status.busy": "2022-03-01T08:37:21.708000Z",
     "iopub.status.idle": "2022-03-01T08:37:21.713000Z",
     "shell.execute_reply": "2022-03-01T08:37:21.712000Z"
    }
   },
   "outputs": [],
   "source": [
    "using PyCall\n",
    "import PyPlot as plt\n",
    "matplotlib = pyimport(\"matplotlib\")"
   ]
  },
  {
   "cell_type": "code",
   "execution_count": null,
   "id": "4f2dd4d7-d8ad-495b-b379-2e4046122324",
   "metadata": {
    "execution": {
     "iopub.execute_input": "2022-03-01T08:37:21.716000Z",
     "iopub.status.busy": "2022-03-01T08:37:21.715000Z",
     "iopub.status.idle": "2022-03-01T08:37:22.384000Z",
     "shell.execute_reply": "2022-03-01T08:37:22.384000Z"
    }
   },
   "outputs": [],
   "source": [
    "lines = Any[collect(zip([1.,3.,5.,0.],[2.,4.,.06,0.]))]\n",
    "push!(lines,collect(zip([3.,4],[5.,6])))\n",
    "push!(lines,collect(zip([8.,2],[2.,4])))\n",
    "\n",
    "##############\n",
    "##  Colors  ##\n",
    "##############\n",
    "# Line segments will be plotted with the following order of colors and will\n",
    "# cycle back to the beginning of the array when it has gone through all of them\n",
    "c = Vector[[1,0,0],[0,1,0],[0,0,1]]\n",
    "\n",
    "# Assemble everything into a LineCollection\n",
    "line_segments = matplotlib.collections.LineCollection(lines,colors=c)\n",
    "\n",
    "fig, ax = plt.subplots(figsize=(10,10))\n",
    "ax.add_collection(line_segments)\n",
    "ax.axis(\"image\") # Tight axis and 1:1 aspect ratio\n",
    "fig;"
   ]
  },
  {
   "cell_type": "markdown",
   "id": "1bd0f60f-225c-4285-8d07-b41d2edfb00d",
   "metadata": {},
   "source": [
    "## Major and minor ticks"
   ]
  },
  {
   "cell_type": "code",
   "execution_count": null,
   "id": "6081f15f-36ad-413e-af75-edc88dbe04e6",
   "metadata": {
    "execution": {
     "iopub.execute_input": "2022-03-01T08:37:22.388000Z",
     "iopub.status.busy": "2022-03-01T08:37:22.387000Z",
     "iopub.status.idle": "2022-03-01T08:37:22.389000Z",
     "shell.execute_reply": "2022-03-01T08:37:22.389000Z"
    }
   },
   "outputs": [],
   "source": [
    "using PyCall\n",
    "import PyPlot as plt\n",
    "matplotlib = pyimport(\"matplotlib\")"
   ]
  },
  {
   "cell_type": "code",
   "execution_count": null,
   "id": "02be1dd7-806e-4a51-bcea-31d53c97746b",
   "metadata": {
    "execution": {
     "iopub.execute_input": "2022-03-01T08:37:22.392000Z",
     "iopub.status.busy": "2022-03-01T08:37:22.392000Z",
     "iopub.status.idle": "2022-03-01T08:37:23.199000Z",
     "shell.execute_reply": "2022-03-01T08:37:23.198000Z"
    }
   },
   "outputs": [],
   "source": [
    "x = collect(0.0:0.01:100.0)\n",
    "y = @. sin(0.1pi*x) * exp(-0.01x)\n",
    "\n",
    "fig, ax = plt.subplots(figsize=(10,10))\n",
    "\t\n",
    "ax.plot(x,y)\n",
    "ax.set_xlabel(\"X Axis\")\n",
    "ax.set_ylabel(\"Y Axis\")\n",
    "ax.grid(\"on\")\n",
    "ax.set_title(\"Major and Minor Ticks\")\n",
    "\n",
    "###########################\n",
    "#  Set the tick interval  #\n",
    "###########################\n",
    "Mx = matplotlib.ticker.MultipleLocator(20) # Define interval of major ticks\n",
    "f = matplotlib.ticker.FormatStrFormatter(\"%1.2f\") # Define format of tick labels\n",
    "ax.xaxis.set_major_locator(Mx) # Set interval of major ticks\n",
    "ax.xaxis.set_major_formatter(f) # Set format of tick labels\n",
    "\n",
    "mx = matplotlib.ticker.MultipleLocator(5) # Define interval of minor ticks\n",
    "ax.xaxis.set_minor_locator(mx) # Set interval of minor ticks\n",
    "\n",
    "My = matplotlib.ticker.MultipleLocator(0.5) # Define interval of major ticks\n",
    "ax.yaxis.set_major_locator(My) # Set interval of major ticks\n",
    "\n",
    "my = matplotlib.ticker.MultipleLocator(0.1) # Define interval of minor ticks\n",
    "ax.yaxis.set_minor_locator(my) # Set interval of minor ticks\n",
    "\n",
    "ax.xaxis.set_tick_params(which=\"major\",length=10,width=2,labelsize=16)\n",
    "ax.xaxis.set_tick_params(which=\"minor\",length=5,width=2)\n",
    "\n",
    "fig;"
   ]
  },
  {
   "cell_type": "markdown",
   "id": "8aa3da3a-a554-4f88-bbcc-841a3f226261",
   "metadata": {},
   "source": [
    "## Multiple axis\n",
    "\n",
    "`ax2 = ax.twinx()`"
   ]
  },
  {
   "cell_type": "code",
   "execution_count": null,
   "id": "63e04da4-37f8-47b5-9cc9-87621464d3bf",
   "metadata": {
    "execution": {
     "iopub.execute_input": "2022-03-01T08:37:23.202000Z",
     "iopub.status.busy": "2022-03-01T08:37:23.201000Z",
     "iopub.status.idle": "2022-03-01T08:37:23.636000Z",
     "shell.execute_reply": "2022-03-01T08:37:23.635000Z"
    }
   },
   "outputs": [],
   "source": [
    "using Random\n",
    "import PyPlot as plt\n",
    "Random.seed!(2021)"
   ]
  },
  {
   "cell_type": "code",
   "execution_count": null,
   "id": "c7b540aa-fe0f-492e-bcda-d4610d204593",
   "metadata": {
    "execution": {
     "iopub.execute_input": "2022-03-01T08:37:23.639000Z",
     "iopub.status.busy": "2022-03-01T08:37:23.638000Z",
     "iopub.status.idle": "2022-03-01T08:37:24.540000Z",
     "shell.execute_reply": "2022-03-01T08:37:24.539000Z"
    }
   },
   "outputs": [],
   "source": [
    "n = 15 # Number of values\n",
    "x = collect(1:n)\n",
    "y1 = 10rand(n,1) .- 2\n",
    "y2 = 1000rand(n,1)\n",
    "y3 = 30rand(n,1) .- 15\n",
    "\n",
    "fig, ax = plt.subplots(figsize=(10,10))\n",
    "\t\n",
    "ax.plot(x,y1,linestyle=\"-\",marker=\"o\",label=\"First\") # Plot a basic line\n",
    "ax.set_title(\"Multi-axis Plot\")\n",
    "ax.set_xlabel(\"X Axis\")\n",
    "font1 = Dict(\"color\"=>\"blue\")\n",
    "ax.set_ylabel(\"Left Axis\",fontdict=font1)\n",
    "plt.setp(ax.get_yticklabels(),color=\"blue\") # Y Axis font formatting\n",
    "\n",
    "################\n",
    "#  Other Axes  #\n",
    "################\n",
    "new_position = [0.06;0.06;0.77;0.91] # Position Method 2\n",
    "ax.set_position(new_position) # Position Method 2: Change the size and position of the axis\n",
    "#fig.subplots_adjust(right=0.85) # Position Method 1\n",
    "\n",
    "ax2 = ax.twinx() # Create another axis on top of the current axis\n",
    "font2 = Dict(\"color\"=>\"purple\")\n",
    "ax2.set_ylabel(\"Right Axis\",fontdict=font2)\n",
    "ax2.plot(x,y2,color=\"purple\",linestyle=\"-\",marker=\"o\",label=\"Second\") # Plot a basic line\n",
    "ax2.set_position(new_position) # Position Method 2\n",
    "plt.setp(ax2.get_yticklabels(),color=\"purple\") # Y Axis font formatting\n",
    "\n",
    "ax3 = ax.twinx() # Create another axis on top of the current axis\n",
    "ax3.spines[\"right\"].set_position((\"axes\",1.12)) # Offset the y-axis label from the axis itself so it doesn't overlap the second axis\n",
    "font3 = Dict(\"color\"=>\"green\")\n",
    "ax3.set_ylabel(\"Far Right Axis\",fontdict=font3)\n",
    "ax3.plot(x,y3,color=\"green\",linestyle=\"-\",marker=\"o\",label=\"Third\") # Plot a basic line\n",
    "ax3.set_position(new_position) # Position Method 2\n",
    "plt.setp(ax.get_yticklabels(),color=\"green\") # Y Axis font formatting\n",
    "\n",
    "ax.axis(\"tight\")\n",
    "\n",
    "# Enable just the right part of the frame\n",
    "ax3.set_frame_on(true) # Make the entire frame visible\n",
    "ax3.patch.set_visible(false) # Make the patch (background) invisible so it doesn't cover up the other axes' plots\n",
    "ax3.spines[\"top\"].set_visible(false) # Hide the top edge of the axis\n",
    "ax3.spines[\"bottom\"].set_visible(false) # Hide the bottom edge of the axis\n",
    "\n",
    "fig;"
   ]
  },
  {
   "cell_type": "markdown",
   "id": "a2568095-a1a8-40bf-bae8-0e32d075fe39",
   "metadata": {},
   "source": [
    "### Sharing the Legend Box in Twin Axes"
   ]
  },
  {
   "cell_type": "code",
   "execution_count": null,
   "id": "e22847cb-1308-4733-8751-02b1a1d75ec1",
   "metadata": {
    "execution": {
     "iopub.execute_input": "2022-03-01T08:37:24.543000Z",
     "iopub.status.busy": "2022-03-01T08:37:24.542000Z",
     "iopub.status.idle": "2022-03-01T08:37:25.034000Z",
     "shell.execute_reply": "2022-03-01T08:37:25.034000Z"
    }
   },
   "outputs": [],
   "source": [
    "import PyPlot as plt\n",
    "\n",
    "x1 = 1:10\n",
    "fig, ax1 = plt.subplots()\n",
    "l1 = ax1.plot(x1, x1, \"r-\")\n",
    "ax2 = ax1.twinx()\n",
    "l2 = ax2.plot(x1, exp.(x1), \"g-\")\n",
    "ax1.legend([first(l1), first(l2)], [\"x\", \"exp(x)\"])"
   ]
  },
  {
   "cell_type": "markdown",
   "id": "8400acc9-91d6-47b5-81e6-6fdf4db6f0a3",
   "metadata": {},
   "source": [
    "## Pie Chart"
   ]
  },
  {
   "cell_type": "code",
   "execution_count": null,
   "id": "1c0b1676-4737-4ea2-9e84-a85060cb2461",
   "metadata": {
    "execution": {
     "iopub.execute_input": "2022-03-01T08:37:25.037000Z",
     "iopub.status.busy": "2022-03-01T08:37:25.037000Z",
     "iopub.status.idle": "2022-03-01T08:37:25.038000Z",
     "shell.execute_reply": "2022-03-01T08:37:25.038000Z"
    }
   },
   "outputs": [],
   "source": [
    "import PyPlot as plt"
   ]
  },
  {
   "cell_type": "code",
   "execution_count": null,
   "id": "b3cf0064-4ecc-46c1-81fd-87f19c5d4cd2",
   "metadata": {
    "execution": {
     "iopub.execute_input": "2022-03-01T08:37:25.041000Z",
     "iopub.status.busy": "2022-03-01T08:37:25.040000Z",
     "iopub.status.idle": "2022-03-01T08:37:25.529000Z",
     "shell.execute_reply": "2022-03-01T08:37:25.528000Z"
    }
   },
   "outputs": [],
   "source": [
    "labels = [\"Lager\",\"Pilsner\",\"Stout\",\"IPA\"]\n",
    "colors = [\"yellowgreen\",\"gold\",\"lightskyblue\",\"lightcoral\"]\n",
    "\n",
    "explode = zeros(length(labels))\n",
    "explode[2] = 0.1 # Move slice 2 out by 0.1\n",
    "\n",
    "sizes = [15, 30, 45, 10]\n",
    "\n",
    "font = Dict(\"fontname\"=>\"Sans\",\"weight\"=>\"semibold\")\n",
    "\n",
    "fig, ax = plt.subplots(figsize=(10,10))\n",
    "ax.pie(sizes,\n",
    "        labels=labels,\n",
    "        shadow=true,\n",
    "        startangle=90,\n",
    "        explode=explode,\n",
    "        colors=colors,\n",
    "        autopct=\"%1.1f%%\",\n",
    "        textprops=font)\n",
    "ax.axis(\"equal\")\n",
    "ax.set_title(\"Beer\")\n",
    "fig;"
   ]
  },
  {
   "cell_type": "markdown",
   "id": "6cb00fe7-b7da-4c71-bdd5-d34301b4831f",
   "metadata": {},
   "source": [
    "## Quiver plots"
   ]
  },
  {
   "cell_type": "code",
   "execution_count": null,
   "id": "b12b54c8-811f-4aab-8c8d-8284c21d65f8",
   "metadata": {
    "execution": {
     "iopub.execute_input": "2022-03-01T08:37:25.532000Z",
     "iopub.status.busy": "2022-03-01T08:37:25.532000Z",
     "iopub.status.idle": "2022-03-01T08:37:25.532000Z",
     "shell.execute_reply": "2022-03-01T08:37:25.532000Z"
    }
   },
   "outputs": [],
   "source": [
    "import PyPlot as plt"
   ]
  },
  {
   "cell_type": "code",
   "execution_count": null,
   "id": "c2522cc3-cfa5-43ce-93c7-5d8c9d21558e",
   "metadata": {
    "execution": {
     "iopub.execute_input": "2022-03-01T08:37:25.535000Z",
     "iopub.status.busy": "2022-03-01T08:37:25.535000Z",
     "iopub.status.idle": "2022-03-01T08:37:26.464000Z",
     "shell.execute_reply": "2022-03-01T08:37:26.464000Z"
    }
   },
   "outputs": [],
   "source": [
    "R = -10:1:9\n",
    "X = [R;]'\n",
    "Y = [R;]\n",
    "U = repeat([R;]',length(X))\n",
    "V = repeat([R;],1,length(Y))\n",
    "\n",
    "fig, ax = plt.subplots(figsize=(10,10))\n",
    "q = ax.quiver(X,Y,U,V)\n",
    "ax.quiverkey(q,X=0.07,Y = 0.05, U = 10,coordinates=\"figure\", label=\"Quiver key, length = 10\",labelpos = \"E\")\n",
    "ax.set_title(\"Quiver Plot Example\")\n",
    "fig;"
   ]
  },
  {
   "cell_type": "markdown",
   "id": "d2e35dca-58fb-4a1c-be3a-d7bf3464aa42",
   "metadata": {},
   "source": [
    "## Scatter Plot"
   ]
  },
  {
   "cell_type": "code",
   "execution_count": null,
   "id": "3fef3f84-1299-471e-94c7-20a427430943",
   "metadata": {
    "execution": {
     "iopub.execute_input": "2022-03-01T08:37:26.467000Z",
     "iopub.status.busy": "2022-03-01T08:37:26.467000Z",
     "iopub.status.idle": "2022-03-01T08:37:26.471000Z",
     "shell.execute_reply": "2022-03-01T08:37:26.470000Z"
    }
   },
   "outputs": [],
   "source": [
    "using Random\n",
    "import PyPlot as plt\n",
    "\n",
    "Random.seed!(2021)"
   ]
  },
  {
   "cell_type": "code",
   "execution_count": null,
   "id": "e4dc1ad4-3569-4d59-915f-917b20d0131c",
   "metadata": {
    "execution": {
     "iopub.execute_input": "2022-03-01T08:37:26.474000Z",
     "iopub.status.busy": "2022-03-01T08:37:26.473000Z",
     "iopub.status.idle": "2022-03-01T08:37:26.784000Z",
     "shell.execute_reply": "2022-03-01T08:37:26.783000Z"
    }
   },
   "outputs": [],
   "source": [
    "x = 100*rand(50)\n",
    "y = 100*rand(50)\n",
    "areas = 800*rand(50)\n",
    "\n",
    "\n",
    "fig, ax = plt.subplots(figsize=(10,10))\n",
    "ax.scatter(x,y,s=areas,alpha=0.5)\n",
    "\n",
    "ax.set_title(\"Scatter Plot\")\n",
    "ax.set_xlabel(\"X\")\n",
    "ax.set_ylabel(\"Y\")\n",
    "ax.grid(\"on\")\n",
    "\n",
    "fig;"
   ]
  },
  {
   "cell_type": "markdown",
   "id": "e57795f1-468b-4e76-8abe-391c2db83045",
   "metadata": {},
   "source": [
    "## Subplots"
   ]
  },
  {
   "cell_type": "code",
   "execution_count": null,
   "id": "3073e1c7-e95a-4972-a5e6-75ab7397204d",
   "metadata": {
    "execution": {
     "iopub.execute_input": "2022-03-01T08:37:26.787000Z",
     "iopub.status.busy": "2022-03-01T08:37:26.786000Z",
     "iopub.status.idle": "2022-03-01T08:37:26.789000Z",
     "shell.execute_reply": "2022-03-01T08:37:26.788000Z"
    }
   },
   "outputs": [],
   "source": [
    "import PyPlot as plt"
   ]
  },
  {
   "cell_type": "code",
   "execution_count": null,
   "id": "4a1edbaa-821f-4855-8b71-3f3b3906b892",
   "metadata": {
    "execution": {
     "iopub.execute_input": "2022-03-01T08:37:26.791000Z",
     "iopub.status.busy": "2022-03-01T08:37:26.791000Z",
     "iopub.status.idle": "2022-03-01T08:37:28.147000Z",
     "shell.execute_reply": "2022-03-01T08:37:28.146000Z"
    }
   },
   "outputs": [],
   "source": [
    "fig = plt.figure(\"pyplot_subplot_mixed\",figsize=(10,10)) # Create a new blank figure\n",
    "#fig.set_figheight(7) # Doesn't work\n",
    "#fig.set_figwidth(3) # Doesn't work\n",
    "plt.subplot(221) # Create the 1st axis of a 2x2 arrax of axes\n",
    "plt.grid(\"on\") # Create a grid on the axis\n",
    "plt.title(\"221\") # Give the most recent axis a title\n",
    "plt.subplot(222,polar=\"true\") # Create a plot and make it a polar plot, 2nd axis of 2x2 axis grid\n",
    "plt.title(\"222\")\n",
    "ax = plt.subplot(223,polar=\"true\") # Create a plot and make it a polar plot, 3rd axis of 2x2 axis grid\n",
    "ax.set_theta_zero_location(\"N\") # Set 0 degrees to the top of the plot\n",
    "ax.set_theta_direction(-1) # Switch the polar plot to clockwise\n",
    "plt.title(\"223\")\n",
    "plt.subplot(224) # Create the 4th axis of a 2x2 arrax of axes\n",
    "plt.xlabel(\"This is an X axis\")\n",
    "plt.ylabel(\"This is a y axis\")\n",
    "plt.title(\"224\")\n",
    "fig.suptitle(\"2x2 Subplot\")\n",
    "\n",
    "fig;"
   ]
  },
  {
   "cell_type": "code",
   "execution_count": null,
   "id": "f262389e-4ec2-4fa7-ba7a-24f38cc82cf5",
   "metadata": {
    "execution": {
     "iopub.execute_input": "2022-03-01T08:37:28.150000Z",
     "iopub.status.busy": "2022-03-01T08:37:28.149000Z",
     "iopub.status.idle": "2022-03-01T08:37:28.802000Z",
     "shell.execute_reply": "2022-03-01T08:37:28.802000Z"
    }
   },
   "outputs": [],
   "source": [
    "###################\n",
    "##  Column Plot  ##\n",
    "###################\n",
    "fig = plt.figure(\"pyplot_subplot_column\",figsize=(10,10))\n",
    "plt.subplot(311) # Create the 1st axis of a 3x1 array of axes\n",
    "plt.title(\"311\")\n",
    "plt.subplot(312) # Create the 2nd axis of a 3x1 arrax of axes\n",
    "ax = plt.gca() # Get the handle of the current axis\n",
    "ax.set_yscale(\"log\") # Set the y axis to a logarithmic scale\n",
    "plt.grid(\"on\")\n",
    "plt.ylabel(\"Log Scale\")\n",
    "plt.title(\"312\")\n",
    "plt.subplot(313) # Create the 3rd axis of a 3x1 array of axes\n",
    "ax = plt.gca()\n",
    "ax.set_xscale(\"log\") # Set the x axis to a logarithmic scale\n",
    "plt.xlabel(\"Log Scale\")\n",
    "plt.title(\"313\")\n",
    "fig.suptitle(\"3x1 Subplot\")\n",
    "\n",
    "fig;"
   ]
  },
  {
   "cell_type": "code",
   "execution_count": null,
   "id": "cc07767f-8441-4e4f-a58e-c4e8879786d5",
   "metadata": {
    "execution": {
     "iopub.execute_input": "2022-03-01T08:37:28.805000Z",
     "iopub.status.busy": "2022-03-01T08:37:28.805000Z",
     "iopub.status.idle": "2022-03-01T08:37:30.084000Z",
     "shell.execute_reply": "2022-03-01T08:37:30.083000Z"
    }
   },
   "outputs": [],
   "source": [
    "###################\n",
    "##  Shared Axis  ##\n",
    "###################\n",
    "fig = plt.figure(\"pyplot_subplot_touching\",figsize=(10,10))\n",
    "plt.subplots_adjust(hspace=0.0) # Set the vertical spacing between axes\n",
    "plt.subplot(311) # Create the 1st axis of a 3x1 array of axes\n",
    "ax1 = plt.gca()\n",
    "ax1.set_xscale(\"log\") # Set the x axis to a logarithmic scale\n",
    "plt.setp(ax1.get_xticklabels(),visible=false) # Disable x tick labels\n",
    "plt.grid(\"on\")\n",
    "plt.title(\"Title\")\n",
    "plt.yticks(0.1:0.2:0.9) # Set the y-tick range and step size, 0.1 to 0.9 in increments of 0.2\n",
    "plt.ylim(0.0,1.0) # Set the y-limits from 0.0 to 1.0\n",
    "plt.subplot(312,sharex=ax1) # Create the 2nd axis of a 3x1 array of axes\n",
    "ax2 = plt.gca()\n",
    "ax2.set_xscale(\"log\") # Set the x axis to a logarithmic scale\n",
    "plt.setp(ax2.get_xticklabels(),visible=false) # Disable x tick labels\n",
    "plt.grid(\"on\")\n",
    "plt.ylabel(\"Log Scale\")\n",
    "plt.yticks(0.1:0.2:0.9)\n",
    "plt.ylim(0.0,1.0)\n",
    "plt.subplot(313,sharex=ax2) # Create the 3rd axis of a 3x1 array of axes\n",
    "ax3 = plt.gca()\n",
    "ax3.set_xscale(\"log\") # Set the x axis to a logarithmic scale\n",
    "plt.grid(\"on\")\n",
    "plt.xlabel(\"Log Scale\")\n",
    "plt.yticks(0.1:0.2:0.9)\n",
    "plt.ylim(0.0,1.0)\n",
    "plt.suptitle(\"3x1 Shared Axis\")\n",
    "\n",
    "fig;"
   ]
  },
  {
   "cell_type": "markdown",
   "id": "1c423761-b4ee-4227-8b9b-16f516a1608d",
   "metadata": {},
   "source": [
    "## Surface plot"
   ]
  },
  {
   "cell_type": "code",
   "execution_count": null,
   "id": "53b466a8-a0f0-4fb2-8c08-36acbe08301f",
   "metadata": {
    "execution": {
     "iopub.execute_input": "2022-03-01T08:37:30.087000Z",
     "iopub.status.busy": "2022-03-01T08:37:30.086000Z",
     "iopub.status.idle": "2022-03-01T08:37:31.438000Z",
     "shell.execute_reply": "2022-03-01T08:37:31.438000Z"
    }
   },
   "outputs": [],
   "source": [
    "using Distributions, LinearAlgebra\n",
    "import PyPlot as plt\n",
    "plt.using3D() # Needed to create a 3D subplot"
   ]
  },
  {
   "cell_type": "code",
   "execution_count": null,
   "id": "f645763e-6b2d-460a-bf8b-6d17605aed12",
   "metadata": {
    "execution": {
     "iopub.execute_input": "2022-03-01T08:37:31.442000Z",
     "iopub.status.busy": "2022-03-01T08:37:31.441000Z",
     "iopub.status.idle": "2022-03-01T08:37:33.967000Z",
     "shell.execute_reply": "2022-03-01T08:37:33.966000Z"
    }
   },
   "outputs": [],
   "source": [
    "n = 100\n",
    "x = range(-3,stop=3,length=n)\n",
    "y = range(-3,stop=3,length=n)\n",
    "\n",
    "xgrid = repeat(x',n,1)\n",
    "ygrid = repeat(y,1,n)\n",
    "\n",
    "z = zeros(n,n)\n",
    "\n",
    "for i in 1:n\n",
    "    for j in 1:n\n",
    "        z[i:i,j:j] .= pdf(MvNormal(Matrix(1.0I,2,2)),[x[i];y[j]])\n",
    "    end\n",
    "end\n",
    "\n",
    "fig = plt.figure(\"pyplot_surfaceplot\",figsize=(10,10))\n",
    "\t\n",
    "ax = fig.add_subplot(2,1,1,projection=\"3d\")\n",
    "ax.plot_surface(xgrid, ygrid, z, rstride=2,edgecolors=\"k\", cstride=2, cmap=plt.ColorMap(\"gray\"), alpha=0.8, linewidth=0.25)\n",
    "ax.set_xlabel(\"X\")\n",
    "ax.set_ylabel(\"Y\")\n",
    "ax.set_title(\"Surface Plot\")\n",
    "\n",
    "ax = fig.add_subplot(2,1,2)\n",
    "cp = ax.contour(xgrid, ygrid, z, colors=\"black\", linewidth=2.0)\n",
    "ax.clabel(cp, inline=1, fontsize=10)\n",
    "ax.set_xlabel(\"X\")\n",
    "ax.set_ylabel(\"Y\")\n",
    "ax.set_title(\"Contour Plot\")\n",
    "fig.tight_layout()\n",
    "\n",
    "fig;"
   ]
  },
  {
   "cell_type": "markdown",
   "id": "f7de8bed-d111-449b-b532-b449376f64fb",
   "metadata": {},
   "source": [
    "## Windrose bar and line plots\n",
    "\n",
    "A.k.a polar plots"
   ]
  },
  {
   "cell_type": "code",
   "execution_count": null,
   "id": "ac74ba61-22fd-49af-8018-63615bd0559a",
   "metadata": {
    "execution": {
     "iopub.execute_input": "2022-03-01T08:37:33.971000Z",
     "iopub.status.busy": "2022-03-01T08:37:33.970000Z",
     "iopub.status.idle": "2022-03-01T08:37:33.973000Z",
     "shell.execute_reply": "2022-03-01T08:37:33.972000Z"
    }
   },
   "outputs": [],
   "source": [
    "import PyPlot as plt"
   ]
  },
  {
   "cell_type": "code",
   "execution_count": null,
   "id": "94695d15-2817-4ac8-afef-6776ca9c4f04",
   "metadata": {
    "execution": {
     "iopub.execute_input": "2022-03-01T08:37:33.974000Z",
     "iopub.status.busy": "2022-03-01T08:37:33.974000Z",
     "iopub.status.idle": "2022-03-01T08:37:34.348000Z",
     "shell.execute_reply": "2022-03-01T08:37:34.348000Z"
    }
   },
   "outputs": [],
   "source": [
    "theta = collect(0:2pi/30:2pi)\n",
    "r = rand(length(theta))\n",
    "width = 2pi/length(theta)"
   ]
  },
  {
   "cell_type": "code",
   "execution_count": null,
   "id": "fb8cdab2-859e-45c1-9933-2eb0dede58fa",
   "metadata": {
    "execution": {
     "iopub.execute_input": "2022-03-01T08:37:34.352000Z",
     "iopub.status.busy": "2022-03-01T08:37:34.352000Z",
     "iopub.status.idle": "2022-03-01T08:37:35.508000Z",
     "shell.execute_reply": "2022-03-01T08:37:35.508000Z"
    }
   },
   "outputs": [],
   "source": [
    "##########################\n",
    "##  Windrose Line Plot  ##\n",
    "##########################\n",
    "\n",
    "fig = plt.figure(figsize=(10,10)) # Create a new figure\n",
    "ax = plt.axes(polar=\"true\") # Create a polar axis\n",
    "\n",
    "ax.set_title(\"Wind Rose - Line\")\n",
    "ax.plot(theta,r,linestyle=\"-\",marker=\"None\") # Basic line plot\n",
    "\n",
    "dtheta = 10\n",
    "\n",
    "ax.set_thetagrids(collect(0:dtheta:360-dtheta)) # Show grid lines from 0 to 360 in increments of dtheta\n",
    "ax.set_theta_zero_location(\"N\") # Set 0 degrees to the top of the plot\n",
    "ax.set_theta_direction(-1) # Switch to clockwise\n",
    "\n",
    "fig;"
   ]
  },
  {
   "cell_type": "code",
   "execution_count": null,
   "id": "d400ef19-0236-4d8c-ba9b-dc0f26b59a4d",
   "metadata": {
    "execution": {
     "iopub.execute_input": "2022-03-01T08:37:35.512000Z",
     "iopub.status.busy": "2022-03-01T08:37:35.511000Z",
     "iopub.status.idle": "2022-03-01T08:37:38.165000Z",
     "shell.execute_reply": "2022-03-01T08:37:38.165000Z"
    }
   },
   "outputs": [],
   "source": [
    "fig = plt.figure(\"pyplot_windrose_barplot\",figsize=(10,10)) # Create a new figure\n",
    "ax = plt.axes(polar=\"true\") # Create a polar axis\n",
    "ax.set_title(\"Wind Rose - Bar\")\n",
    "ax.bar(theta,r,width=width) # Bar plot\n",
    "\n",
    "dtheta = 10\n",
    "ax.set_thetagrids(collect(0:dtheta:360-dtheta)) # Show grid lines from 0 to 360 in increments of dtheta\n",
    "ax.set_theta_zero_location(\"N\") # Set 0 degrees to the top of the plot\n",
    "ax.set_theta_direction(-1) # Switch to clockwise\n",
    "\n",
    "fig;"
   ]
  },
  {
   "cell_type": "markdown",
   "id": "33d1268d-23ad-4709-9b08-ba144f29403b",
   "metadata": {},
   "source": [
    "## XKCD style inexact plots"
   ]
  },
  {
   "cell_type": "code",
   "execution_count": null,
   "id": "34c258f7-1c94-4bf2-80c9-cb35caa3b306",
   "metadata": {
    "execution": {
     "iopub.execute_input": "2022-03-01T08:37:38.171000Z",
     "iopub.status.busy": "2022-03-01T08:37:38.170000Z",
     "iopub.status.idle": "2022-03-01T08:37:38.187000Z",
     "shell.execute_reply": "2022-03-01T08:37:38.187000Z"
    }
   },
   "outputs": [],
   "source": [
    "import PyPlot as plt\n",
    "plt.xkcd()"
   ]
  },
  {
   "cell_type": "code",
   "execution_count": null,
   "id": "671f4fbc-e127-40d0-9317-7b31353673e7",
   "metadata": {
    "execution": {
     "iopub.execute_input": "2022-03-01T08:37:38.191000Z",
     "iopub.status.busy": "2022-03-01T08:37:38.190000Z",
     "iopub.status.idle": "2022-03-01T08:37:38.660000Z",
     "shell.execute_reply": "2022-03-01T08:37:38.659000Z"
    }
   },
   "outputs": [],
   "source": [
    "x = [1:1:100;]\n",
    "y = ones(100)\n",
    "for i=70:1:100\n",
    "    y[i] = y[i] - (0.7/30)*(i-70)\n",
    "end\n",
    "\n",
    "fig, ax = plt.subplots(figsize=(10,10))\n",
    "ax.plot(x,y)\n",
    "ax.set_ylim([0.2;1.1])\n",
    "ax.annotate(\"THE DAY I REALIZED\\nI COULD COOK BACON\\nWHENEVER I WANTED\",xy=[70;1],arrowprops=Dict(\"arrowstyle\"=>\"->\"),xytext=[25;0.8])\n",
    "\n",
    "ax.set_xticks([])\n",
    "ax.set_yticks([])\n",
    "ax.set_xlabel(\"TIME\")\n",
    "ax.set_ylabel(\"MY OVERALL HEALTH\")\n",
    "ax.set_title(\"Stove Owndership\\nhttp://xkcd.com/418/\")\n",
    "ax.spines[\"top\"].set_color(\"none\") # Remove the top axis boundary\n",
    "ax.spines[\"right\"].set_color(\"none\") # Remove the right axis boundary\n",
    "\n",
    "fig;"
   ]
  },
  {
   "cell_type": "code",
   "execution_count": null,
   "id": "d802b08f-82fd-4ad7-9c63-a8fead8c2421",
   "metadata": {
    "execution": {
     "iopub.execute_input": "2022-03-01T08:37:38.663000Z",
     "iopub.status.busy": "2022-03-01T08:37:38.662000Z",
     "iopub.status.idle": "2022-03-01T08:37:38.680000Z",
     "shell.execute_reply": "2022-03-01T08:37:38.679000Z"
    },
    "tags": []
   },
   "outputs": [],
   "source": [
    "# Return to the regular style\n",
    "plt.rcdefaults()"
   ]
  },
  {
   "cell_type": "markdown",
   "id": "8b141e50",
   "metadata": {},
   "source": [
    "## Animation\n",
    "\n",
    "From: https://genkuroki.github.io/documents/Jupyter/20170624%20Examples%20of%20animations%20in%20Julia%20by%20PyPlot%20and%20matplotlib.animation.html"
   ]
  },
  {
   "cell_type": "code",
   "execution_count": null,
   "id": "c86dad1f",
   "metadata": {},
   "outputs": [],
   "source": [
    "using Base64\n",
    "using PyPlot\n",
    "using PyCall\n",
    "@pyimport matplotlib.animation as anim\n",
    "\n",
    "# Embbed mp4 files in Jupyter Notebook\n",
    "function display_mp4(filename)\n",
    "    display(\"text/html\", string(\"\"\"<video autoplay controls><source src=\"data:video/x-m4v;base64,\"\"\",\n",
    "        Base64.base64encode(open(read, filename)),\"\"\"\" type=\"video/mp4\"></video>\"\"\"))\n",
    "end"
   ]
  },
  {
   "cell_type": "code",
   "execution_count": null,
   "id": "af9ea533",
   "metadata": {},
   "outputs": [],
   "source": [
    "A = randn(20, 20, 20)\n",
    "\n",
    "fig = figure(figsize=(2,2))\n",
    "\n",
    "function make_frame(i)\n",
    "    imshow(A[:,:,i+1], interpolation=\"none\")\n",
    "end\n",
    "\n",
    "withfig(fig) do\n",
    "    myanim = anim.FuncAnimation(fig, make_frame, frames=size(A, 3), interval=20)\n",
    "    myanim.save(\"test2.mp4\", bitrate=-1, extra_args=[\"-vcodec\", \"libx264\", \"-pix_fmt\", \"yuv420p\"])\n",
    "end\n",
    "\n",
    "display_mp4(\"test2.mp4\")"
   ]
  }
 ],
 "metadata": {
  "kernelspec": {
   "display_name": "Julia 1.7.3",
   "language": "julia",
   "name": "julia-1.7"
  },
  "language_info": {
   "file_extension": ".jl",
   "mimetype": "application/julia",
   "name": "julia",
   "version": "1.7.3"
  }
 },
 "nbformat": 4,
 "nbformat_minor": 5
}
